{
 "cells": [
  {
   "cell_type": "markdown",
   "metadata": {},
   "source": [
    "# Using ImageTool"
   ]
  },
  {
   "cell_type": "code",
   "execution_count": 8,
   "metadata": {},
   "outputs": [],
   "source": [
    "from iautil import io\n",
    "from iautil.plotting.image_tool import ImageTool"
   ]
  },
  {
   "cell_type": "code",
   "execution_count": 4,
   "metadata": {},
   "outputs": [],
   "source": [
    "# Run if scan40 not created\n",
    "# Otherwise, skip this step \n",
    "io.create_iau_file(\n",
    "    data_source=\"./example_files/scan40.vti\",\n",
    "    iau_file_path=\"./scan40.iau\",\n",
    "    axis_labels=[\"H\", \"K\", \"L\"],\n",
    "    metadata={\"name\": \"scan40\"}\n",
    ")"
   ]
  },
  {
   "cell_type": "code",
   "execution_count": 7,
   "metadata": {},
   "outputs": [],
   "source": [
    "da = io.load_iau_file(\"./scan40.iau\")"
   ]
  },
  {
   "cell_type": "code",
   "execution_count": 9,
   "metadata": {},
   "outputs": [],
   "source": [
    "it = ImageTool(da)"
   ]
  },
  {
   "cell_type": "code",
   "execution_count": 10,
   "metadata": {},
   "outputs": [],
   "source": [
    "it.show()"
   ]
  }
 ],
 "metadata": {
  "interpreter": {
   "hash": "cc421a4f0664a889a1a20320079440b42c08caad557781a4a380119fb327a5c1"
  },
  "kernelspec": {
   "display_name": "Python 3.7.11 64-bit (conda)",
   "language": "python",
   "name": "python3"
  },
  "language_info": {
   "codemirror_mode": {
    "name": "ipython",
    "version": 3
   },
   "file_extension": ".py",
   "mimetype": "text/x-python",
   "name": "python",
   "nbconvert_exporter": "python",
   "pygments_lexer": "ipython3",
   "version": "3.7.11"
  },
  "orig_nbformat": 4
 },
 "nbformat": 4,
 "nbformat_minor": 2
}
