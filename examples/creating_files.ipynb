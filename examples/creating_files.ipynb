{
 "cells": [
  {
   "cell_type": "markdown",
   "metadata": {},
   "source": [
    "### Creating and Displaying Files with image-analysis-util"
   ]
  },
  {
   "cell_type": "markdown",
   "metadata": {},
   "source": [
    "This tutorial will walk through the steps to create and display a 4D .iau file with metadata and new axis coordinates using data from the `test` subdirectory."
   ]
  },
  {
   "cell_type": "code",
   "execution_count": 5,
   "metadata": {},
   "outputs": [],
   "source": [
    "from iautil import io\n",
    "from iautil.plotting.image_tool import ImageTool\n",
    "import os"
   ]
  },
  {
   "cell_type": "code",
   "execution_count": 6,
   "metadata": {},
   "outputs": [],
   "source": [
    "# Directory of vti files\n",
    "scans_vti_path = os.path.abspath(\"../tests/test_files\")\n",
    "\n",
    "# Path to save iau file to\n",
    "scans_iau_path = os.path.abspath(\"./scans40-42.iau\")"
   ]
  },
  {
   "cell_type": "code",
   "execution_count": 8,
   "metadata": {},
   "outputs": [],
   "source": [
    "# Create file with list of labels and new axis coords\n",
    "io.vti_to_iau(\n",
    "    vti_path=scans_vti_path,\n",
    "    iau_path=scans_iau_path,\n",
    "    dims=[\"H\", \"K\", \"L\", \"V\"],\n",
    "    new_dim_coords=[100, 150, 200],\n",
    "    metadata={\"name\": \"test\"}\n",
    ")"
   ]
  },
  {
   "cell_type": "code",
   "execution_count": 9,
   "metadata": {},
   "outputs": [],
   "source": [
    "# Converts iau file to xarray dataarray\n",
    "data_array = io.iau_to_data_array(scans_iau_path)\n"
   ]
  },
  {
   "cell_type": "code",
   "execution_count": 10,
   "metadata": {},
   "outputs": [],
   "source": [
    "# Run to remove iau file (not necessary)\n",
    "os.remove(scans_iau_path)"
   ]
  },
  {
   "cell_type": "code",
   "execution_count": 11,
   "metadata": {},
   "outputs": [],
   "source": [
    "im_tool = ImageTool(data_array=data_array)\n",
    "im_tool.show()"
   ]
  },
  {
   "cell_type": "code",
   "execution_count": null,
   "metadata": {},
   "outputs": [],
   "source": []
  }
 ],
 "metadata": {
  "interpreter": {
   "hash": "cc421a4f0664a889a1a20320079440b42c08caad557781a4a380119fb327a5c1"
  },
  "kernelspec": {
   "display_name": "Python 3.7.11",
   "language": "python",
   "name": "python3"
  },
  "language_info": {
   "codemirror_mode": {
    "name": "ipython",
    "version": 3
   },
   "file_extension": ".py",
   "mimetype": "text/x-python",
   "name": "python",
   "nbconvert_exporter": "python",
   "pygments_lexer": "ipython3",
   "version": "3.7.11"
  },
  "orig_nbformat": 4
 },
 "nbformat": 4,
 "nbformat_minor": 2
}
