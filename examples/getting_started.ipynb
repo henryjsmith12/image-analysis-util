{
 "cells": [
  {
   "cell_type": "markdown",
   "metadata": {},
   "source": [
    "# Getting Started with image-analysis-util"
   ]
  },
  {
   "cell_type": "markdown",
   "metadata": {},
   "source": [
    "Here is a quick tutorial on how to create and load .iau files through a few functions. A .iau file is a specifically formatted HDF5 file unique to image-analysis-util that store:\n",
    "\n",
    "- `data` - a 2D, 3D, 4D Numpy array\n",
    "- `axes` - lists of coordinates for each dimension\n",
    "- `axis_labels` - a list of labels for each dimension\n",
    "- `metadata` - a dictionary of additional information"
   ]
  },
  {
   "cell_type": "markdown",
   "metadata": {},
   "source": [
    "In image-analysis-util's current state, it is only able to read .vti (VTK XML Image) files. The list of compatible file formats will grow in the future. \n",
    "\n",
    "Let's create a sample .iau file from a data source in the `examples/example_files` directory. "
   ]
  },
  {
   "cell_type": "code",
   "execution_count": null,
   "metadata": {},
   "outputs": [],
   "source": []
  }
 ],
 "metadata": {
  "interpreter": {
   "hash": "cc421a4f0664a889a1a20320079440b42c08caad557781a4a380119fb327a5c1"
  },
  "kernelspec": {
   "display_name": "Python 3.7.11 64-bit (conda)",
   "language": "python",
   "name": "python3"
  },
  "language_info": {
   "codemirror_mode": {
    "name": "ipython",
    "version": 3
   },
   "file_extension": ".py",
   "mimetype": "text/x-python",
   "name": "python",
   "nbconvert_exporter": "python",
   "pygments_lexer": "ipython3",
   "version": "3.7.11"
  },
  "orig_nbformat": 4
 },
 "nbformat": 4,
 "nbformat_minor": 2
}
