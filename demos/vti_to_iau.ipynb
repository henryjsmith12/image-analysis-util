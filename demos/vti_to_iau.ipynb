{
 "cells": [
  {
   "cell_type": "markdown",
   "metadata": {},
   "source": [
    "## Converting .vti (VTK) Datasets into .iau Files\n",
    "\n",
    "One of the functions of image-analysis-util is its ability to convert data from multiple formats into a generalized format, an .iau file. This file type is essentially an HDF5 file with a program-specific format. This demo will show how to convert .vti (Paraview VTK Image data) files into the .iau format for both 3D and 4D datasets."
   ]
  },
  {
   "cell_type": "code",
   "execution_count": 1,
   "metadata": {},
   "outputs": [],
   "source": [
    "import h5py # Creating .iau\n",
    "import os \n",
    "import numpy as np\n",
    "import vtk # Reading data from .vti\n",
    "from vtk.util import numpy_support as npSup # type: ignore"
   ]
  },
  {
   "cell_type": "markdown",
   "metadata": {},
   "source": [
    "### .iau Components\n",
    "\n",
    "These are the pieces of information stored in a .iau file:\n",
    "\n",
    "- data: A 3D/4D numpy array of all values in a dataset\n",
    "- axis coordinates: A 1D numpy array of all coordinates on a specific axis\n",
    "- dimension labels: A string label for each dimension\n",
    "- metadata: a dictionary of all additional information (.vti files do not store metadata)"
   ]
  },
  {
   "cell_type": "markdown",
   "metadata": {},
   "source": [
    "### Converting"
   ]
  },
  {
   "cell_type": "markdown",
   "metadata": {},
   "source": [
    "#### 3D Datasets\n",
    "\n",
    ".vti files store data for three dimensions, so we will read data from a single file."
   ]
  },
  {
   "cell_type": "code",
   "execution_count": null,
   "metadata": {},
   "outputs": [],
   "source": []
  }
 ],
 "metadata": {
  "interpreter": {
   "hash": "cc421a4f0664a889a1a20320079440b42c08caad557781a4a380119fb327a5c1"
  },
  "kernelspec": {
   "display_name": "Python 3.7.11 64-bit (conda)",
   "language": "python",
   "name": "python3"
  },
  "language_info": {
   "codemirror_mode": {
    "name": "ipython",
    "version": 3
   },
   "file_extension": ".py",
   "mimetype": "text/x-python",
   "name": "python",
   "nbconvert_exporter": "python",
   "pygments_lexer": "ipython3",
   "version": "3.7.11"
  },
  "orig_nbformat": 4
 },
 "nbformat": 4,
 "nbformat_minor": 2
}
